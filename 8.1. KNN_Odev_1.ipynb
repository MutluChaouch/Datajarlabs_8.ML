{
 "cells": [
  {
   "cell_type": "markdown",
   "metadata": {},
   "source": [
    "## 8.1. Odev_Proje 3 verisi"
   ]
  },
  {
   "cell_type": "markdown",
   "metadata": {},
   "source": [
    "Koronavirus verisi analizi: https://github.com/Atharva-Peshkar/Covid-19-Patient-Health-Analytics"
   ]
  },
  {
   "cell_type": "code",
   "execution_count": 41,
   "metadata": {},
   "outputs": [],
   "source": [
    "import pandas as pd\n",
    "import numpy as np\n",
    "import seaborn as sns\n",
    "import matplotlib.pyplot as plt\n",
    "import scipy\n",
    "from sklearn.model_selection import train_test_split\n",
    "from sklearn.neighbors import KNeighborsClassifier\n",
    "from sklearn.model_selection import cross_val_score\n",
    "%matplotlib inline\n",
    "\n",
    "import warnings\n",
    "warnings.filterwarnings('ignore')\n",
    "\n",
    "baslik_font = {'family': 'arial','color':  'darkred','weight': 'bold','size': 15 }\n",
    "eksen_font = {'family': 'arial','color':  'darkblue','weight': 'bold','size': 10 }"
   ]
  },
  {
   "cell_type": "code",
   "execution_count": 42,
   "metadata": {},
   "outputs": [
    {
     "data": {
      "text/html": [
       "<div>\n",
       "<style scoped>\n",
       "    .dataframe tbody tr th:only-of-type {\n",
       "        vertical-align: middle;\n",
       "    }\n",
       "\n",
       "    .dataframe tbody tr th {\n",
       "        vertical-align: top;\n",
       "    }\n",
       "\n",
       "    .dataframe thead th {\n",
       "        text-align: right;\n",
       "    }\n",
       "</style>\n",
       "<table border=\"1\" class=\"dataframe\">\n",
       "  <thead>\n",
       "    <tr style=\"text-align: right;\">\n",
       "      <th></th>\n",
       "      <th>id</th>\n",
       "      <th>location</th>\n",
       "      <th>country</th>\n",
       "      <th>gender</th>\n",
       "      <th>age</th>\n",
       "      <th>sym_on</th>\n",
       "      <th>hosp_vis</th>\n",
       "      <th>vis_wuhan</th>\n",
       "      <th>from_wuhan</th>\n",
       "      <th>death</th>\n",
       "      <th>recov</th>\n",
       "      <th>symptom1</th>\n",
       "      <th>symptom2</th>\n",
       "      <th>symptom3</th>\n",
       "      <th>symptom4</th>\n",
       "      <th>symptom5</th>\n",
       "      <th>symptom6</th>\n",
       "    </tr>\n",
       "  </thead>\n",
       "  <tbody>\n",
       "    <tr>\n",
       "      <th>1080</th>\n",
       "      <td>1081</td>\n",
       "      <td>Innsbruck</td>\n",
       "      <td>Austria</td>\n",
       "      <td>NaN</td>\n",
       "      <td>24.0</td>\n",
       "      <td>NaN</td>\n",
       "      <td>NaN</td>\n",
       "      <td>0</td>\n",
       "      <td>0.0</td>\n",
       "      <td>0</td>\n",
       "      <td>0</td>\n",
       "      <td>NaN</td>\n",
       "      <td>NaN</td>\n",
       "      <td>NaN</td>\n",
       "      <td>NaN</td>\n",
       "      <td>NaN</td>\n",
       "      <td>NaN</td>\n",
       "    </tr>\n",
       "    <tr>\n",
       "      <th>1081</th>\n",
       "      <td>1082</td>\n",
       "      <td>Afghanistan</td>\n",
       "      <td>Afghanistan</td>\n",
       "      <td>NaN</td>\n",
       "      <td>35.0</td>\n",
       "      <td>NaN</td>\n",
       "      <td>NaN</td>\n",
       "      <td>0</td>\n",
       "      <td>0.0</td>\n",
       "      <td>0</td>\n",
       "      <td>0</td>\n",
       "      <td>NaN</td>\n",
       "      <td>NaN</td>\n",
       "      <td>NaN</td>\n",
       "      <td>NaN</td>\n",
       "      <td>NaN</td>\n",
       "      <td>NaN</td>\n",
       "    </tr>\n",
       "    <tr>\n",
       "      <th>1082</th>\n",
       "      <td>1083</td>\n",
       "      <td>Algeria</td>\n",
       "      <td>Algeria</td>\n",
       "      <td>male</td>\n",
       "      <td>NaN</td>\n",
       "      <td>NaN</td>\n",
       "      <td>NaN</td>\n",
       "      <td>0</td>\n",
       "      <td>0.0</td>\n",
       "      <td>0</td>\n",
       "      <td>0</td>\n",
       "      <td>NaN</td>\n",
       "      <td>NaN</td>\n",
       "      <td>NaN</td>\n",
       "      <td>NaN</td>\n",
       "      <td>NaN</td>\n",
       "      <td>NaN</td>\n",
       "    </tr>\n",
       "    <tr>\n",
       "      <th>1083</th>\n",
       "      <td>1084</td>\n",
       "      <td>Croatia</td>\n",
       "      <td>Croatia</td>\n",
       "      <td>male</td>\n",
       "      <td>NaN</td>\n",
       "      <td>NaN</td>\n",
       "      <td>NaN</td>\n",
       "      <td>0</td>\n",
       "      <td>0.0</td>\n",
       "      <td>0</td>\n",
       "      <td>0</td>\n",
       "      <td>NaN</td>\n",
       "      <td>NaN</td>\n",
       "      <td>NaN</td>\n",
       "      <td>NaN</td>\n",
       "      <td>NaN</td>\n",
       "      <td>NaN</td>\n",
       "    </tr>\n",
       "    <tr>\n",
       "      <th>1084</th>\n",
       "      <td>1085</td>\n",
       "      <td>Bern</td>\n",
       "      <td>Switzerland</td>\n",
       "      <td>male</td>\n",
       "      <td>70.0</td>\n",
       "      <td>NaN</td>\n",
       "      <td>NaN</td>\n",
       "      <td>0</td>\n",
       "      <td>0.0</td>\n",
       "      <td>0</td>\n",
       "      <td>0</td>\n",
       "      <td>NaN</td>\n",
       "      <td>NaN</td>\n",
       "      <td>NaN</td>\n",
       "      <td>NaN</td>\n",
       "      <td>NaN</td>\n",
       "      <td>NaN</td>\n",
       "    </tr>\n",
       "  </tbody>\n",
       "</table>\n",
       "</div>"
      ],
      "text/plain": [
       "        id     location      country gender   age sym_on hosp_vis  vis_wuhan  \\\n",
       "1080  1081    Innsbruck      Austria    NaN  24.0    NaN      NaN          0   \n",
       "1081  1082  Afghanistan  Afghanistan    NaN  35.0    NaN      NaN          0   \n",
       "1082  1083      Algeria      Algeria   male   NaN    NaN      NaN          0   \n",
       "1083  1084      Croatia      Croatia   male   NaN    NaN      NaN          0   \n",
       "1084  1085         Bern  Switzerland   male  70.0    NaN      NaN          0   \n",
       "\n",
       "      from_wuhan  death  recov symptom1 symptom2 symptom3 symptom4 symptom5  \\\n",
       "1080         0.0      0      0      NaN      NaN      NaN      NaN      NaN   \n",
       "1081         0.0      0      0      NaN      NaN      NaN      NaN      NaN   \n",
       "1082         0.0      0      0      NaN      NaN      NaN      NaN      NaN   \n",
       "1083         0.0      0      0      NaN      NaN      NaN      NaN      NaN   \n",
       "1084         0.0      0      0      NaN      NaN      NaN      NaN      NaN   \n",
       "\n",
       "     symptom6  \n",
       "1080      NaN  \n",
       "1081      NaN  \n",
       "1082      NaN  \n",
       "1083      NaN  \n",
       "1084      NaN  "
      ]
     },
     "execution_count": 42,
     "metadata": {},
     "output_type": "execute_result"
    }
   ],
   "source": [
    "covid = pd.read_csv('covid.csv')\n",
    "covid.tail()"
   ]
  },
  {
   "cell_type": "code",
   "execution_count": 43,
   "metadata": {},
   "outputs": [],
   "source": [
    "covid = covid.drop(['symptom1','symptom2','symptom3','symptom4','symptom5','symptom6','sym_on','hosp_vis',\n",
    "                   'id','location','recov'], axis=1)"
   ]
  },
  {
   "cell_type": "code",
   "execution_count": 44,
   "metadata": {},
   "outputs": [],
   "source": [
    "covid = pd.get_dummies(data=covid, columns=['country', 'gender'])"
   ]
  },
  {
   "cell_type": "code",
   "execution_count": 45,
   "metadata": {},
   "outputs": [],
   "source": [
    "covid = covid.dropna()"
   ]
  },
  {
   "cell_type": "code",
   "execution_count": 46,
   "metadata": {},
   "outputs": [
    {
     "name": "stdout",
     "output_type": "stream",
     "text": [
      "(839, 44)\n"
     ]
    }
   ],
   "source": [
    "print(covid.shape)"
   ]
  },
  {
   "cell_type": "raw",
   "metadata": {},
   "source": [
    "Uçüncü proje olan sınıflandırma projesinde kullandığınız veri kümesini tekrar kullanarak, KNN ile sınıflandırma modelleri oluşturun ve bu modeller için en uygun parametre değerlerini belirleyin. En ideal parametreyi bulmak için daha önceki bölümde öğrendiğiniz çapraz doğrulama metotlarını kullanabilirsiniz."
   ]
  },
  {
   "cell_type": "code",
   "execution_count": 47,
   "metadata": {},
   "outputs": [],
   "source": [
    "X = covid[['age','from_wuhan','country_China','gender_male']]\n",
    "Y = covid.death\n",
    "X_egitim,X_test,Y_egitim,Y_test = train_test_split (X,Y,test_size=0.2,random_state=40)"
   ]
  },
  {
   "cell_type": "code",
   "execution_count": 48,
   "metadata": {},
   "outputs": [
    {
     "data": {
      "text/plain": [
       "0.8988095238095238"
      ]
     },
     "execution_count": 48,
     "metadata": {},
     "output_type": "execute_result"
    }
   ],
   "source": [
    "# en yakin gozleme gore tahmin\n",
    "\n",
    "knn1 = KNeighborsClassifier(n_neighbors=1)\n",
    "knn1.fit(X_egitim,Y_egitim)\n",
    "knn1.score(X_test,Y_test)"
   ]
  },
  {
   "cell_type": "code",
   "execution_count": 49,
   "metadata": {},
   "outputs": [],
   "source": [
    "# simdi de farkli k degerlerine gore bakalim\n",
    "\n",
    "komsu_sayisi = np.arange(1, 9)\n",
    "egitim_kumesi_skoru = np.empty(len(komsu_sayisi))\n",
    "test_kumesi_skoru = np.empty(len(komsu_sayisi))"
   ]
  },
  {
   "cell_type": "code",
   "execution_count": 50,
   "metadata": {},
   "outputs": [
    {
     "data": {
      "image/png": "[encoded data removed]",
      "text/plain": [
       "<Figure size 700x300 with 1 Axes>"
      ]
     },
     "metadata": {
      "needs_background": "light"
     },
     "output_type": "display_data"
    }
   ],
   "source": [
    "for i, k in enumerate(komsu_sayisi):\n",
    "    knn = KNeighborsClassifier(n_neighbors=k)\n",
    "    knn.fit(X_egitim, Y_egitim)\n",
    "    egitim_kumesi_skoru[i] = knn.score(X_egitim, Y_egitim)\n",
    "\n",
    "    #Compute accuracy on the testing set\n",
    "    test_kumesi_skoru[i] = knn.score(X_test, Y_test)\n",
    "\n",
    "plt.figure(figsize=(7,3), dpi = 100)\n",
    "plt.plot(komsu_sayisi, test_kumesi_skoru, label = 'Test kumesi')\n",
    "plt.plot(komsu_sayisi, egitim_kumesi_skoru, label = 'Egitim kumesi')\n",
    "plt.legend()\n",
    "plt.title('Komsu Sayilarina Gore Model Skoru (k-NN)', fontdict= baslik_font)\n",
    "plt.xlabel('Komsu Sayisi', fontdict= eksen_font)\n",
    "plt.ylabel('Dogruluk', fontdict= eksen_font)\n",
    "plt.show()"
   ]
  },
  {
   "cell_type": "code",
   "execution_count": 55,
   "metadata": {},
   "outputs": [
    {
     "data": {
      "text/plain": [
       "0.9642857142857143"
      ]
     },
     "execution_count": 55,
     "metadata": {},
     "output_type": "execute_result"
    }
   ],
   "source": [
    "# yukaridaki grafige gore en yuksek dogruluk tahminini 6 farkli komsuya gore elde ettik\n",
    "\n",
    "knn6 = KNeighborsClassifier(n_neighbors=6)\n",
    "knn6.fit(X_egitim,Y_egitim)\n",
    "knn6.score(X_test,Y_test)"
   ]
  },
  {
   "cell_type": "code",
   "execution_count": 56,
   "metadata": {},
   "outputs": [
    {
     "name": "stdout",
     "output_type": "stream",
     "text": [
      "cv = 3 ---> Ortalama capraz dogrulama skoru:  0.9345238095238096\n",
      "cv = 10 ---> Ortalama capraz dogrulama skoru:  0.9117647058823529\n"
     ]
    }
   ],
   "source": [
    "# ilk model icin capraz dogrulama\n",
    "\n",
    "cvscore_3 = cross_val_score(knn1,X_test,Y_test,cv=3)\n",
    "print('cv = 3 ---> Ortalama capraz dogrulama skoru: ', np.mean(cvscore_3))\n",
    "                           \n",
    "cvscore_10 = cross_val_score(knn1,X_test,Y_test,cv=10)\n",
    "print('cv = 10 ---> Ortalama capraz dogrulama skoru: ', np.mean(cvscore_10))\n",
    "\n",
    "# SORU: burada dogrulama skorunu nasil degerlendirmemiz gerekiyor?"
   ]
  },
  {
   "cell_type": "code",
   "execution_count": 57,
   "metadata": {},
   "outputs": [
    {
     "name": "stdout",
     "output_type": "stream",
     "text": [
      "cv = 3 ---> Ortalama capraz dogrulama skoru:  0.9583333333333334\n",
      "cv = 10 ---> Ortalama capraz dogrulama skoru:  0.9588235294117646\n"
     ]
    }
   ],
   "source": [
    "# Ikinci model icin capraz dogrulama\n",
    "\n",
    "cvscore_3 = cross_val_score(knn6,X_test,Y_test,cv=3)\n",
    "print('cv = 3 ---> Ortalama capraz dogrulama skoru: ', np.mean(cvscore_3))\n",
    "                           \n",
    "cvscore_10 = cross_val_score(knn6,X_test,Y_test,cv=10)\n",
    "print('cv = 10 ---> Ortalama capraz dogrulama skoru: ', np.mean(cvscore_10))"
   ]
  },
  {
   "cell_type": "code",
   "execution_count": 58,
   "metadata": {},
   "outputs": [],
   "source": [
    "# Normalizasyon\n",
    "\n",
    "from sklearn.preprocessing import StandardScaler\n",
    "ss = StandardScaler()\n",
    "X_olcekli = ss.fit_transform(X)\n",
    "X_egitim_olcekli,X_test_olcekli,Y_egitim,Y_test = train_test_split(X_olcekli, Y,random_state=40,test_size=0.2)"
   ]
  },
  {
   "cell_type": "code",
   "execution_count": 59,
   "metadata": {},
   "outputs": [
    {
     "data": {
      "text/plain": [
       "0.9345238095238095"
      ]
     },
     "execution_count": 59,
     "metadata": {},
     "output_type": "execute_result"
    }
   ],
   "source": [
    "# ilk modelimizi olceklendirdigimizde dogruluk orani 0.89 dan 0.93 e cikti\n",
    "\n",
    "knn1 = KNeighborsClassifier(n_neighbors=1)\n",
    "knn1.fit(X_egitim_olcekli,Y_egitim)\n",
    "knn1.score(X_test_olcekli,Y_test)"
   ]
  },
  {
   "cell_type": "code",
   "execution_count": 60,
   "metadata": {},
   "outputs": [
    {
     "data": {
      "text/plain": [
       "0.9583333333333334"
      ]
     },
     "execution_count": 60,
     "metadata": {},
     "output_type": "execute_result"
    }
   ],
   "source": [
    "# ikinci modelimizi olceklendirdigimizde dogruluk orani 0.9642 den 0.958 e dustu\n",
    "\n",
    "knn6 = KNeighborsClassifier(n_neighbors=6)\n",
    "knn6.fit(X_egitim_olcekli,Y_egitim)\n",
    "knn6.score(X_test_olcekli,Y_test)"
   ]
  },
  {
   "cell_type": "code",
   "execution_count": 61,
   "metadata": {},
   "outputs": [
    {
     "data": {
      "text/plain": [
       "0.9404761904761905"
      ]
     },
     "execution_count": 61,
     "metadata": {},
     "output_type": "execute_result"
    }
   ],
   "source": [
    "# Agirliklandirma. Burada biraz daha dusuk bir dogruluk orani elde ettik\n",
    "\n",
    "from sklearn.neighbors import KNeighborsClassifier\n",
    "from scipy import stats\n",
    "\n",
    "knn6 = KNeighborsClassifier(n_neighbors=6, weights='distance')\n",
    "\n",
    "X_zscore = stats.zscore(X)\n",
    "\n",
    "X_egitim, X_test, Y_egitim, Y_test = train_test_split(X_zscore, Y, test_size=0.2, random_state = 40)\n",
    "\n",
    "knn6.fit(X_egitim,Y_egitim)\n",
    "knn6.score(X_test, Y_test)"
   ]
  },
  {
   "cell_type": "markdown",
   "metadata": {},
   "source": [
    "Sonuc olarak normallestirme ve agirliklandirma yerine k degerini degistirerek elde ettigimiz model ile daha yuksek bir dogruluk oranina erismis olduk."
   ]
  }
 ],
 "metadata": {
  "kernelspec": {
   "display_name": "Python 3",
   "language": "python",
   "name": "python3"
  },
  "language_info": {
   "codemirror_mode": {
    "name": "ipython",
    "version": 3
   },
   "file_extension": ".py",
   "mimetype": "text/x-python",
   "name": "python",
   "nbconvert_exporter": "python",
   "pygments_lexer": "ipython3",
   "version": "3.8.5"
  }
 },
 "nbformat": 4,
 "nbformat_minor": 2
}
